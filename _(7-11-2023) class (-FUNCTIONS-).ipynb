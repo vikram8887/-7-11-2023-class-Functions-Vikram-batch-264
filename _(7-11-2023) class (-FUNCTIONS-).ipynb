{
 "cells": [
  {
   "cell_type": "markdown",
   "id": "a2f191fe",
   "metadata": {},
   "source": [
    "# Documantation of (7-11-2023) class Task"
   ]
  },
  {
   "cell_type": "markdown",
   "id": "32016c0a",
   "metadata": {},
   "source": [
    "# Functions"
   ]
  },
  {
   "cell_type": "markdown",
   "id": "1af63f14",
   "metadata": {},
   "source": [
    "#### It's a block of code, which executes a desired task. A function can be called n-number of times instead of writing the code required to execute the task.\n",
    "\n",
    "#### There are two steps in creating a function, defining a function and calling the function.\n",
    "\n",
    "\n",
    "### Syntax of defining a function:"
   ]
  },
  {
   "cell_type": "markdown",
   "id": "995c3513",
   "metadata": {},
   "source": [
    "   ##### def func_name(parameter/s):\n",
    "   #####   block of code"
   ]
  },
  {
   "cell_type": "markdown",
   "id": "9df5fc1c",
   "metadata": {},
   "source": [
    "##### parameters\n",
    "parameters can be considered as the variables we use to write/ define\n",
    "Some Benefits of Using Functions\n",
    "\n",
    ".> Increase Code Readability\n",
    ".> Increase Code Reusability"
   ]
  },
  {
   "cell_type": "markdown",
   "id": "1e385c3d",
   "metadata": {},
   "source": [
    "### Calling a function\n",
    "\n",
    "### Syntax for calling a function:\n",
    "\n",
    "#### func_name(arg/s)\n",
    "\n",
    "##### here arg/s are actual values or real values of variables"
   ]
  },
  {
   "cell_type": "code",
   "execution_count": 1,
   "id": "68320506",
   "metadata": {},
   "outputs": [],
   "source": [
    "def vickeysum(a, b):\n",
    "    print(a + b)"
   ]
  },
  {
   "cell_type": "code",
   "execution_count": 18,
   "id": "1c7856cd",
   "metadata": {},
   "outputs": [
    {
     "name": "stdout",
     "output_type": "stream",
     "text": [
      "4\n"
     ]
    }
   ],
   "source": [
    "vickeysum(1, 3)"
   ]
  },
  {
   "cell_type": "code",
   "execution_count": 17,
   "id": "d05ae637",
   "metadata": {},
   "outputs": [
    {
     "name": "stdout",
     "output_type": "stream",
     "text": [
      "-8\n"
     ]
    }
   ],
   "source": [
    "vickeysum(-3, -5)"
   ]
  },
  {
   "cell_type": "code",
   "execution_count": 21,
   "id": "84537c40",
   "metadata": {},
   "outputs": [
    {
     "name": "stdout",
     "output_type": "stream",
     "text": [
      "5.0\n"
     ]
    }
   ],
   "source": [
    "vickeydivision(n = 10, d = 2)"
   ]
  },
  {
   "cell_type": "code",
   "execution_count": 24,
   "id": "3ca10fab",
   "metadata": {},
   "outputs": [],
   "source": [
    "def vickey(a, b, c):\n",
    "    x = a+b\n",
    "    y = x/c\n",
    "    print(y)                   # in this it will show the Error"
   ]
  },
  {
   "cell_type": "code",
   "execution_count": 26,
   "id": "a000cb7e",
   "metadata": {},
   "outputs": [
    {
     "ename": "TypeError",
     "evalue": "vickey() got multiple values for argument 'a'",
     "output_type": "error",
     "traceback": [
      "\u001b[1;31m---------------------------------------------------------------------------\u001b[0m",
      "\u001b[1;31mTypeError\u001b[0m                                 Traceback (most recent call last)",
      "Cell \u001b[1;32mIn[26], line 1\u001b[0m\n\u001b[1;32m----> 1\u001b[0m vickey(\u001b[38;5;241m1\u001b[39m, \u001b[38;5;241m2\u001b[39m, a \u001b[38;5;241m=\u001b[39m \u001b[38;5;241m5\u001b[39m)\n",
      "\u001b[1;31mTypeError\u001b[0m: vickey() got multiple values for argument 'a'"
     ]
    }
   ],
   "source": [
    "vickey(1, 2, a = 5)"
   ]
  },
  {
   "cell_type": "markdown",
   "id": "08ac2e11",
   "metadata": {},
   "source": [
    "# Arguments\n",
    "\n",
    "### Information can be passed into functions as arguments.\n",
    "\n",
    "### Arguments are specified after the function name, inside the parentheses.\n",
    "\n",
    "### You can add as many arguments as you want, just separate them with a comma.\n",
    "\n",
    "## Python supports 3 types of arguments:\n",
    "\n",
    "## 1.Positional Arguments.\n",
    "## 2.Keyword Arguments.\n",
    "## 3.Default Arguments."
   ]
  },
  {
   "cell_type": "markdown",
   "id": "fe497956",
   "metadata": {},
   "source": [
    "## 1.)  position arguement"
   ]
  },
  {
   "cell_type": "markdown",
   "id": "7d1bb0d2",
   "metadata": {},
   "source": [
    "#### Positional arguments mean whenever we pass the arguments in the order we have defined function parameters in which if you change the argument position then you may get the unexpected output.\n",
    "\n",
    "#### We should use positional Arguments whenever we know the order of argument to be passed.\n",
    "\n",
    "#### we will call the function by using the position-only arguments in two ways\n",
    "\n",
    "#### In both cases, we will be getting different outputs from which one will be correct and another one will be incorrect."
   ]
  },
  {
   "cell_type": "code",
   "execution_count": 2,
   "id": "86e0d186",
   "metadata": {},
   "outputs": [],
   "source": [
    "def vickeydivision(n, d):\n",
    "    print(n/d)"
   ]
  },
  {
   "cell_type": "code",
   "execution_count": 19,
   "id": "f3518a19",
   "metadata": {},
   "outputs": [
    {
     "name": "stdout",
     "output_type": "stream",
     "text": [
      "5.0\n"
     ]
    }
   ],
   "source": [
    "vickeydivision(10, 2)"
   ]
  },
  {
   "cell_type": "code",
   "execution_count": 4,
   "id": "6816890e",
   "metadata": {},
   "outputs": [
    {
     "name": "stdout",
     "output_type": "stream",
     "text": [
      "0.2\n"
     ]
    }
   ],
   "source": [
    "vickeydivision(2,10)"
   ]
  },
  {
   "cell_type": "markdown",
   "id": "6ba8a01e",
   "metadata": {},
   "source": [
    "## keyword arguments\n",
    "\n",
    "#### At time of calling a function, if we pass the arguments by using the parameter name, these kind of arguments are called as keyword arguments\n",
    "\n",
    "#### func_name(para1 = arg1, para2 = arg2)"
   ]
  },
  {
   "cell_type": "code",
   "execution_count": 5,
   "id": "5cae6a77",
   "metadata": {},
   "outputs": [
    {
     "name": "stdout",
     "output_type": "stream",
     "text": [
      "3 4\n",
      "None 4\n"
     ]
    }
   ],
   "source": [
    "def my_function(arg1, arg2, *, kwarg1=None, kwarg2=None):\n",
    "    print(kwarg1, kwarg2)\n",
    "my_function(1, 2, kwarg1=3, kwarg2=4)\n",
    "my_function(1, 2, kwarg2=4)"
   ]
  },
  {
   "cell_type": "markdown",
   "id": "98097aa6",
   "metadata": {},
   "source": [
    "# default arguments\n",
    "\n",
    "### In Python, you can define default values for function arguments. If a function is called without providing a value for an argument that has a default value, the default value is used instead. This can be useful when you want to make some arguments optional."
   ]
  },
  {
   "cell_type": "markdown",
   "id": "ae8ed348",
   "metadata": {},
   "source": [
    "##### Python has a different way of representing syntax and default values for function arguments.\n",
    "\n",
    "##### Default values indicate that the function argument will take that value if no argument value is passed during the function call.\n",
    "\n",
    "##### The default value is assigned by using the assignment(=) operator of the form keywordname=value.\n",
    "##### default arguments are passed at the time of defining a function"
   ]
  },
  {
   "cell_type": "code",
   "execution_count": 6,
   "id": "fee3c46f",
   "metadata": {},
   "outputs": [
    {
     "name": "stdout",
     "output_type": "stream",
     "text": [
      "1 default_value\n",
      "1 new_value\n"
     ]
    }
   ],
   "source": [
    "def my_function(arg1, arg2='default_value'):\n",
    "    print(arg1,arg2)\n",
    "my_function(1)\n",
    "my_function(1, 'new_value')"
   ]
  },
  {
   "cell_type": "code",
   "execution_count": 8,
   "id": "68887a99",
   "metadata": {},
   "outputs": [],
   "source": [
    "def foopotentialenergy(m,h,g=9.8): # default arguments\n",
    "    print(m*h*g)"
   ]
  },
  {
   "cell_type": "code",
   "execution_count": 9,
   "id": "97a58dc9",
   "metadata": {},
   "outputs": [
    {
     "name": "stdout",
     "output_type": "stream",
     "text": [
      "490.00000000000006\n"
     ]
    }
   ],
   "source": [
    "foopotentialenergy(10,5) # g is default argument"
   ]
  },
  {
   "cell_type": "code",
   "execution_count": 11,
   "id": "3a91dd1b",
   "metadata": {},
   "outputs": [
    {
     "name": "stdout",
     "output_type": "stream",
     "text": [
      "1000\n"
     ]
    }
   ],
   "source": [
    "foopotentialenergy(20,10,5) # new value of default value using position  argument"
   ]
  },
  {
   "cell_type": "code",
   "execution_count": null,
   "id": "7e507fbb",
   "metadata": {},
   "outputs": [],
   "source": [
    "foopotentialenergy(10,5,g=10)# pass new value for default value using key word argument"
   ]
  },
  {
   "cell_type": "markdown",
   "id": "6e0ea4d4",
   "metadata": {},
   "source": [
    "## Documentation strings"
   ]
  },
  {
   "cell_type": "markdown",
   "id": "d6e1d998",
   "metadata": {},
   "source": [
    "##### Documentation strings (or docstrings) provide a convenient way of associating documentation with Python modules, functions, classes, and methods.\n",
    "\n"
   ]
  },
  {
   "cell_type": "markdown",
   "id": "a8882382",
   "metadata": {},
   "source": [
    "#### Documentation strings (or docstrings) provide a convenient way of associating documentation with Python modules, functions, classes, and methods.\n",
    "\n",
    "#### It’s specified in source code that is used, like a comment, to document a specific segment of code. Unlike conventional source code comments, the docstring should describe what the function does, not how.\n",
    "\n",
    "\n",
    "### Declaring Docstrings:\n",
    "\n",
    "#### The docstrings are declared using ”’triple single quotes”’ or “”” triple double quotes “”” just below the class, method, or function declaration. All functions should have a docstring.\n",
    "\n",
    "### Accessing Docstrings:\n",
    "\n",
    "#### The docstrings can be accessed using the __ doc __ method of the object or using the help function."
   ]
  },
  {
   "cell_type": "code",
   "execution_count": 32,
   "id": "f5f5cb1a",
   "metadata": {},
   "outputs": [],
   "source": [
    "def foodivision(d : float, n : float ):\n",
    "    '''\n",
    "    d = denominator\n",
    "    n = n......\n",
    "    '''\n",
    "    print(n/d)"
   ]
  },
  {
   "cell_type": "code",
   "execution_count": 34,
   "id": "8ae48124",
   "metadata": {},
   "outputs": [
    {
     "name": "stdout",
     "output_type": "stream",
     "text": [
      "\n",
      "    d = denominator\n",
      "    n = n......\n",
      "    \n"
     ]
    }
   ],
   "source": [
    "print(foodivision.__doc__)"
   ]
  },
  {
   "cell_type": "code",
   "execution_count": 36,
   "id": "97dd0a0e",
   "metadata": {},
   "outputs": [],
   "source": [
    "def fooconcatenaionofstring(s1 : str , s2 = '', n = 1):\n",
    "    print((s1+s2)*n)\n"
   ]
  },
  {
   "cell_type": "code",
   "execution_count": 38,
   "id": "b4c2d8f5",
   "metadata": {},
   "outputs": [
    {
     "name": "stdout",
     "output_type": "stream",
     "text": [
      "hehaahaa\n"
     ]
    }
   ],
   "source": [
    "fooconcatenaionofstring('he', s2 = 'haahaa')"
   ]
  },
  {
   "cell_type": "code",
   "execution_count": null,
   "id": "f00ed779",
   "metadata": {},
   "outputs": [],
   "source": []
  }
 ],
 "metadata": {
  "kernelspec": {
   "display_name": "Python 3 (ipykernel)",
   "language": "python",
   "name": "python3"
  },
  "language_info": {
   "codemirror_mode": {
    "name": "ipython",
    "version": 3
   },
   "file_extension": ".py",
   "mimetype": "text/x-python",
   "name": "python",
   "nbconvert_exporter": "python",
   "pygments_lexer": "ipython3",
   "version": "3.11.5"
  }
 },
 "nbformat": 4,
 "nbformat_minor": 5
}
